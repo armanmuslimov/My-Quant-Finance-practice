{
 "cells": [
  {
   "cell_type": "code",
   "execution_count": 174,
   "metadata": {},
   "outputs": [],
   "source": [
    "import pandas as pd\n",
    "import numpy as np\n",
    "import matplotlib.pyplot as plt\n"
   ]
  },
  {
   "cell_type": "code",
   "execution_count": 166,
   "metadata": {},
   "outputs": [
    {
     "data": {
      "text/html": [
       "<div>\n",
       "<style scoped>\n",
       "    .dataframe tbody tr th:only-of-type {\n",
       "        vertical-align: middle;\n",
       "    }\n",
       "\n",
       "    .dataframe tbody tr th {\n",
       "        vertical-align: top;\n",
       "    }\n",
       "\n",
       "    .dataframe thead th {\n",
       "        text-align: right;\n",
       "    }\n",
       "</style>\n",
       "<table border=\"1\" class=\"dataframe\">\n",
       "  <thead>\n",
       "    <tr style=\"text-align: right;\">\n",
       "      <th></th>\n",
       "      <th>Bond_id</th>\n",
       "      <th>type</th>\n",
       "      <th>market_price</th>\n",
       "      <th>notional</th>\n",
       "      <th>expiry_date</th>\n",
       "      <th>coupon</th>\n",
       "      <th>Days in year convention</th>\n",
       "      <th>next_coupon_date</th>\n",
       "      <th>annual_coupon_frequency</th>\n",
       "    </tr>\n",
       "  </thead>\n",
       "  <tbody>\n",
       "    <tr>\n",
       "      <th>0</th>\n",
       "      <td>1</td>\n",
       "      <td>T-bill</td>\n",
       "      <td>99.5</td>\n",
       "      <td>100</td>\n",
       "      <td>2023-10-01</td>\n",
       "      <td>0.00</td>\n",
       "      <td>360</td>\n",
       "      <td>NaT</td>\n",
       "      <td>0</td>\n",
       "    </tr>\n",
       "    <tr>\n",
       "      <th>1</th>\n",
       "      <td>2</td>\n",
       "      <td>T-bill</td>\n",
       "      <td>97.5</td>\n",
       "      <td>100</td>\n",
       "      <td>2024-07-01</td>\n",
       "      <td>0.00</td>\n",
       "      <td>360</td>\n",
       "      <td>NaT</td>\n",
       "      <td>0</td>\n",
       "    </tr>\n",
       "    <tr>\n",
       "      <th>2</th>\n",
       "      <td>3</td>\n",
       "      <td>T-bond</td>\n",
       "      <td>100.0</td>\n",
       "      <td>100</td>\n",
       "      <td>2024-12-01</td>\n",
       "      <td>0.03</td>\n",
       "      <td>365</td>\n",
       "      <td>2023-12-01</td>\n",
       "      <td>2</td>\n",
       "    </tr>\n",
       "    <tr>\n",
       "      <th>3</th>\n",
       "      <td>4</td>\n",
       "      <td>T-bond</td>\n",
       "      <td>102.0</td>\n",
       "      <td>100</td>\n",
       "      <td>2025-05-01</td>\n",
       "      <td>0.04</td>\n",
       "      <td>365</td>\n",
       "      <td>2023-11-01</td>\n",
       "      <td>2</td>\n",
       "    </tr>\n",
       "  </tbody>\n",
       "</table>\n",
       "</div>"
      ],
      "text/plain": [
       "   Bond_id    type  market_price  notional expiry_date  coupon  \\\n",
       "0        1  T-bill          99.5       100  2023-10-01    0.00   \n",
       "1        2  T-bill          97.5       100  2024-07-01    0.00   \n",
       "2        3  T-bond         100.0       100  2024-12-01    0.03   \n",
       "3        4  T-bond         102.0       100  2025-05-01    0.04   \n",
       "\n",
       "   Days in year convention next_coupon_date  annual_coupon_frequency  \n",
       "0                      360              NaT                        0  \n",
       "1                      360              NaT                        0  \n",
       "2                      365       2023-12-01                        2  \n",
       "3                      365       2023-11-01                        2  "
      ]
     },
     "execution_count": 166,
     "metadata": {},
     "output_type": "execute_result"
    }
   ],
   "source": [
    "bond_list = pd.read_excel('Bonds_list.xlsx')\n",
    "#as_of_date=pd.Timestamp.today()\n",
    "as_of_date = pd.to_datetime('2023-07-2')\n",
    "bond_list "
   ]
  },
  {
   "cell_type": "code",
   "execution_count": 167,
   "metadata": {},
   "outputs": [],
   "source": [
    "def tBillYtm(market_price, notional, expiry_date, as_of_date, days_in_year=360):\n",
    "    maturity_days=(expiry_date-as_of_date).days\n",
    "    ytm = -np.log(market_price/notional)/(maturity_days/days_in_year)\n",
    "    return ytm, expiry_date"
   ]
  },
  {
   "cell_type": "code",
   "execution_count": 168,
   "metadata": {},
   "outputs": [],
   "source": [
    "def tBondYtm(market_price, notional, expiry_date, as_of_date, days_in_year, annual_coupon_frequency, coupon, next_coupon_date, yields_table):\n",
    "    \n",
    "    # bond payment schedule\n",
    "    date_index = pd.date_range(start=next_coupon_date, end=expiry_date+pd.DateOffset(1), freq=pd.DateOffset(months=12/annual_coupon_frequency))\n",
    "    bond_cashflows = pd.DataFrame(index=date_index)\n",
    "    #bond_cashflows['Coupons'] = 0\n",
    "    bond_cashflows['Coupons']  = coupon*notional/annual_coupon_frequency\n",
    "    bond_cashflows['Notional'] = 0\n",
    "    bond_cashflows['Notional'].iloc[-1] = notional\n",
    "\n",
    "    #adding zc_rate:\n",
    "    bond_cashflows=pd.concat([bond_cashflows, yields_table], axis=1).reindex(bond_cashflows.index) # if dates match exactly in yields table and bond_cashflows\n",
    "    \n",
    "    # if dates don't match exactly in yields table and bond_cashflows, we will use linear interpolation:\n",
    "    for i in range(len(bond_cashflows)-1):\n",
    "        for j in range(len(yields_table)):\n",
    "            if yields_table.index[j] < bond_cashflows.index[i] < yields_table.index[j+1]:\n",
    "                bond_cashflows['zc_rate'].iloc[i] = yields_table['zc_rate'].iloc[j] + (yields_table['zc_rate'].iloc[j+1]-yields_table['zc_rate'].iloc[j])*((bond_cashflows.index[i]-yields_table.index[j]).days/(yields_table.index[j+1]-yields_table.index[j]).days) #linear interpolation\n",
    "\n",
    "    \n",
    "    bond_cashflows['maturity']=(bond_cashflows.index-as_of_date).days/days_in_year\n",
    "    bond_cashflows['coupon_PV']=bond_cashflows['Coupons']*np.exp(-bond_cashflows['zc_rate']*bond_cashflows['maturity'])\n",
    "    ytm2=-np.log((market_price-bond_cashflows['coupon_PV'].sum())/(bond_cashflows['Notional'].iloc[-1]+bond_cashflows['Coupons'].iloc[-1]))/(bond_cashflows['maturity'].iloc[-1])\n",
    "\n",
    "    print(bond_cashflows)\n",
    "\n",
    "    return ytm2, expiry_date"
   ]
  },
  {
   "cell_type": "code",
   "execution_count": 169,
   "metadata": {},
   "outputs": [
    {
     "name": "stderr",
     "output_type": "stream",
     "text": [
      "C:\\Users\\a.muslimov\\AppData\\Local\\Temp\\ipykernel_7628\\4282917578.py:8: FutureWarning: The frame.append method is deprecated and will be removed from pandas in a future version. Use pandas.concat instead.\n",
      "  yields_table=yields_table.append(s)\n",
      "C:\\Users\\a.muslimov\\AppData\\Local\\Temp\\ipykernel_7628\\4282917578.py:8: FutureWarning: The frame.append method is deprecated and will be removed from pandas in a future version. Use pandas.concat instead.\n",
      "  yields_table=yields_table.append(s)\n"
     ]
    },
    {
     "data": {
      "text/html": [
       "<div>\n",
       "<style scoped>\n",
       "    .dataframe tbody tr th:only-of-type {\n",
       "        vertical-align: middle;\n",
       "    }\n",
       "\n",
       "    .dataframe tbody tr th {\n",
       "        vertical-align: top;\n",
       "    }\n",
       "\n",
       "    .dataframe thead th {\n",
       "        text-align: right;\n",
       "    }\n",
       "</style>\n",
       "<table border=\"1\" class=\"dataframe\">\n",
       "  <thead>\n",
       "    <tr style=\"text-align: right;\">\n",
       "      <th></th>\n",
       "      <th>zc_rate</th>\n",
       "    </tr>\n",
       "  </thead>\n",
       "  <tbody>\n",
       "    <tr>\n",
       "      <th>2023-10-01</th>\n",
       "      <td>0.019830</td>\n",
       "    </tr>\n",
       "    <tr>\n",
       "      <th>2024-07-01</th>\n",
       "      <td>0.024971</td>\n",
       "    </tr>\n",
       "  </tbody>\n",
       "</table>\n",
       "</div>"
      ],
      "text/plain": [
       "             zc_rate\n",
       "2023-10-01  0.019830\n",
       "2024-07-01  0.024971"
      ]
     },
     "execution_count": 169,
     "metadata": {},
     "output_type": "execute_result"
    }
   ],
   "source": [
    "# computing zero rates implied from T-bills prices and adding them to yields_table\n",
    "yields_table=pd.DataFrame(columns=['zc_rate'])\n",
    "for i in range(len(bond_list)):\n",
    "    if bond_list['type'].iloc[i] == 'T-bill': #alternatively, it could be if bond_list['coupon'].iloc[i] == 0:\n",
    "        ytm1, expiry_date1 = tBillYtm(market_price=bond_list['market_price'].iloc[i], notional=bond_list['notional'].iloc[i], expiry_date=bond_list['expiry_date'].iloc[i], as_of_date=as_of_date, days_in_year=bond_list['Days in year convention'].iloc[i])\n",
    "        s=pd.Series({'zc_rate':ytm1})\n",
    "        s.name=expiry_date1\n",
    "        yields_table=yields_table.append(s)\n",
    "yields_table"
   ]
  },
  {
   "cell_type": "code",
   "execution_count": 170,
   "metadata": {},
   "outputs": [
    {
     "name": "stdout",
     "output_type": "stream",
     "text": [
      "            Coupons  Notional   zc_rate  maturity  coupon_PV\n",
      "2023-12-01      1.5       0.0  0.020974  0.416438   1.486955\n",
      "2024-06-01      1.5       0.0  0.024408  0.917808   1.466771\n",
      "2024-12-01      1.5     100.0       NaN  1.419178        NaN\n",
      "            Coupons  Notional   zc_rate  maturity  coupon_PV\n",
      "2023-11-01      2.0       0.0  0.020411  0.334247   1.986401\n",
      "2024-05-01      2.0       0.0  0.023826  0.832877   1.960702\n",
      "2024-11-01      2.0       0.0  0.030314  1.336986   1.920561\n",
      "2025-05-01      2.0     100.0       NaN  1.832877        NaN\n"
     ]
    },
    {
     "name": "stderr",
     "output_type": "stream",
     "text": [
      "C:\\Users\\a.muslimov\\AppData\\Local\\Temp\\ipykernel_7628\\1881704916.py:9: SettingWithCopyWarning: \n",
      "A value is trying to be set on a copy of a slice from a DataFrame\n",
      "\n",
      "See the caveats in the documentation: https://pandas.pydata.org/pandas-docs/stable/user_guide/indexing.html#returning-a-view-versus-a-copy\n",
      "  bond_cashflows['Notional'].iloc[-1] = notional\n",
      "C:\\Users\\a.muslimov\\AppData\\Local\\Temp\\ipykernel_7628\\3507145632.py:17: FutureWarning: The frame.append method is deprecated and will be removed from pandas in a future version. Use pandas.concat instead.\n",
      "  yields_table=yields_table.append(s)\n",
      "C:\\Users\\a.muslimov\\AppData\\Local\\Temp\\ipykernel_7628\\1881704916.py:9: SettingWithCopyWarning: \n",
      "A value is trying to be set on a copy of a slice from a DataFrame\n",
      "\n",
      "See the caveats in the documentation: https://pandas.pydata.org/pandas-docs/stable/user_guide/indexing.html#returning-a-view-versus-a-copy\n",
      "  bond_cashflows['Notional'].iloc[-1] = notional\n",
      "C:\\Users\\a.muslimov\\AppData\\Local\\Temp\\ipykernel_7628\\3507145632.py:17: FutureWarning: The frame.append method is deprecated and will be removed from pandas in a future version. Use pandas.concat instead.\n",
      "  yields_table=yields_table.append(s)\n"
     ]
    },
    {
     "data": {
      "text/html": [
       "<div>\n",
       "<style scoped>\n",
       "    .dataframe tbody tr th:only-of-type {\n",
       "        vertical-align: middle;\n",
       "    }\n",
       "\n",
       "    .dataframe tbody tr th {\n",
       "        vertical-align: top;\n",
       "    }\n",
       "\n",
       "    .dataframe thead th {\n",
       "        text-align: right;\n",
       "    }\n",
       "</style>\n",
       "<table border=\"1\" class=\"dataframe\">\n",
       "  <thead>\n",
       "    <tr style=\"text-align: right;\">\n",
       "      <th></th>\n",
       "      <th>zc_rate</th>\n",
       "    </tr>\n",
       "  </thead>\n",
       "  <tbody>\n",
       "    <tr>\n",
       "      <th>2023-10-01</th>\n",
       "      <td>0.019830</td>\n",
       "    </tr>\n",
       "    <tr>\n",
       "      <th>2024-07-01</th>\n",
       "      <td>0.024971</td>\n",
       "    </tr>\n",
       "    <tr>\n",
       "      <th>2024-12-01</th>\n",
       "      <td>0.031618</td>\n",
       "    </tr>\n",
       "    <tr>\n",
       "      <th>2025-05-01</th>\n",
       "      <td>0.032325</td>\n",
       "    </tr>\n",
       "  </tbody>\n",
       "</table>\n",
       "</div>"
      ],
      "text/plain": [
       "             zc_rate\n",
       "2023-10-01  0.019830\n",
       "2024-07-01  0.024971\n",
       "2024-12-01  0.031618\n",
       "2025-05-01  0.032325"
      ]
     },
     "execution_count": 170,
     "metadata": {},
     "output_type": "execute_result"
    }
   ],
   "source": [
    "# computing zero rates implied from T-bonds prices (with zero rates for coupons already computed from T-bills) and adding them to yields_table\n",
    "for i in range(len(bond_list)):\n",
    "    if bond_list['coupon'].iloc[i] >0:\n",
    "        ytm3, exp_date3 = tBondYtm(market_price=bond_list['market_price'].iloc[i], \n",
    "                notional=bond_list['notional'].iloc[i], \n",
    "                expiry_date=bond_list['expiry_date'].iloc[i], \n",
    "                as_of_date=as_of_date, \n",
    "                days_in_year=bond_list['Days in year convention'].iloc[i], \n",
    "                annual_coupon_frequency=bond_list['annual_coupon_frequency'].iloc[i], \n",
    "                coupon=bond_list['coupon'].iloc[i], \n",
    "                next_coupon_date=bond_list['next_coupon_date'].iloc[i], \n",
    "                yields_table=yields_table)\n",
    "\n",
    "        #adding a new zc_rate to the table\n",
    "        s=pd.Series({'zc_rate':ytm3})\n",
    "        s.name=exp_date3\n",
    "        yields_table=yields_table.append(s)\n",
    "yields_table"
   ]
  },
  {
   "cell_type": "code",
   "execution_count": 175,
   "metadata": {},
   "outputs": [
    {
     "data": {
      "text/plain": [
       "(0.0, 0.07)"
      ]
     },
     "execution_count": 175,
     "metadata": {},
     "output_type": "execute_result"
    },
    {
     "data": {
      "image/png": "[encoded data removed]",
      "text/plain": [
       "<Figure size 640x480 with 1 Axes>"
      ]
     },
     "metadata": {},
     "output_type": "display_data"
    }
   ],
   "source": [
    "plt.plot(yields_table)\n",
    "plt.ylim(top=0.07) #ymax is your value\n",
    "plt.ylim(bottom=0) #ymin is your value"
   ]
  },
  {
   "cell_type": "code",
   "execution_count": 172,
   "metadata": {},
   "outputs": [],
   "source": [
    "#pip install pandas-datareader"
   ]
  },
  {
   "cell_type": "code",
   "execution_count": 173,
   "metadata": {},
   "outputs": [],
   "source": [
    "#import pandas_datareader as pdr\n",
    "#pdr.get_data_fred('GS10')"
   ]
  }
 ],
 "metadata": {
  "kernelspec": {
   "display_name": "base",
   "language": "python",
   "name": "python3"
  },
  "language_info": {
   "codemirror_mode": {
    "name": "ipython",
    "version": 3
   },
   "file_extension": ".py",
   "mimetype": "text/x-python",
   "name": "python",
   "nbconvert_exporter": "python",
   "pygments_lexer": "ipython3",
   "version": "3.10.9"
  }
 },
 "nbformat": 4,
 "nbformat_minor": 2
}
